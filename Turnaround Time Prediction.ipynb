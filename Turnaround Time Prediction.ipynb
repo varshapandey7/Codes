{
 "cells": [
  {
   "cell_type": "code",
   "execution_count": 44,
   "metadata": {},
   "outputs": [
    {
     "data": {
      "text/plain": [
       "'/Users/varshapandey/Python Directory'"
      ]
     },
     "execution_count": 44,
     "metadata": {},
     "output_type": "execute_result"
    }
   ],
   "source": [
    "import os\n",
    "os.chdir('/Users/varshapandey/Python Directory')\n",
    "os.getcwd()"
   ]
  },
  {
   "cell_type": "code",
   "execution_count": 432,
   "metadata": {},
   "outputs": [],
   "source": [
    "import numpy as np\n",
    "import pandas as pd\n",
    "\n",
    "df = pd.read_csv('Training.csv')"
   ]
  },
  {
   "cell_type": "code",
   "execution_count": 433,
   "metadata": {
    "scrolled": false
   },
   "outputs": [
    {
     "data": {
      "text/html": [
       "<div>\n",
       "<style scoped>\n",
       "    .dataframe tbody tr th:only-of-type {\n",
       "        vertical-align: middle;\n",
       "    }\n",
       "\n",
       "    .dataframe tbody tr th {\n",
       "        vertical-align: top;\n",
       "    }\n",
       "\n",
       "    .dataframe thead th {\n",
       "        text-align: right;\n",
       "    }\n",
       "</style>\n",
       "<table border=\"1\" class=\"dataframe\">\n",
       "  <thead>\n",
       "    <tr style=\"text-align: right;\">\n",
       "      <th></th>\n",
       "      <th>srno</th>\n",
       "      <th>mobmake</th>\n",
       "      <th>hubid</th>\n",
       "      <th>hubpincode</th>\n",
       "      <th>pickuppartnerid</th>\n",
       "      <th>deliverypartnerid</th>\n",
       "      <th>insuranceCompanyId</th>\n",
       "      <th>custpincodecategory</th>\n",
       "      <th>claimtype</th>\n",
       "      <th>custpincode</th>\n",
       "      <th>memcreateddate</th>\n",
       "      <th>mobilepurchasedate</th>\n",
       "      <th>claimintdate</th>\n",
       "      <th>servicecntrid</th>\n",
       "      <th>pickupStartdate</th>\n",
       "      <th>tat_in_days</th>\n",
       "    </tr>\n",
       "  </thead>\n",
       "  <tbody>\n",
       "    <tr>\n",
       "      <th>0</th>\n",
       "      <td>2829088</td>\n",
       "      <td>AN</td>\n",
       "      <td>3</td>\n",
       "      <td>560011</td>\n",
       "      <td>233</td>\n",
       "      <td>233</td>\n",
       "      <td>131</td>\n",
       "      <td>A</td>\n",
       "      <td>ADLD</td>\n",
       "      <td>560093</td>\n",
       "      <td>30/07/17</td>\n",
       "      <td>27/07/17</td>\n",
       "      <td>01/02/18</td>\n",
       "      <td>4467</td>\n",
       "      <td>06/02/18</td>\n",
       "      <td>6</td>\n",
       "    </tr>\n",
       "    <tr>\n",
       "      <th>1</th>\n",
       "      <td>2851218</td>\n",
       "      <td>AN</td>\n",
       "      <td>7</td>\n",
       "      <td>500004</td>\n",
       "      <td>233</td>\n",
       "      <td>233</td>\n",
       "      <td>131</td>\n",
       "      <td>A</td>\n",
       "      <td>ADLD</td>\n",
       "      <td>500001</td>\n",
       "      <td>27/04/17</td>\n",
       "      <td>02/12/16</td>\n",
       "      <td>08/02/18</td>\n",
       "      <td>4403</td>\n",
       "      <td>13/02/18</td>\n",
       "      <td>5</td>\n",
       "    </tr>\n",
       "    <tr>\n",
       "      <th>2</th>\n",
       "      <td>2838330</td>\n",
       "      <td>AJ</td>\n",
       "      <td>10</td>\n",
       "      <td>226010</td>\n",
       "      <td>233</td>\n",
       "      <td>233</td>\n",
       "      <td>131</td>\n",
       "      <td>A</td>\n",
       "      <td>ADLD</td>\n",
       "      <td>226022</td>\n",
       "      <td>06/03/17</td>\n",
       "      <td>05/03/17</td>\n",
       "      <td>04/02/18</td>\n",
       "      <td>4444</td>\n",
       "      <td>08/02/18</td>\n",
       "      <td>12</td>\n",
       "    </tr>\n",
       "    <tr>\n",
       "      <th>3</th>\n",
       "      <td>2835781</td>\n",
       "      <td>AJ</td>\n",
       "      <td>2</td>\n",
       "      <td>110018</td>\n",
       "      <td>233</td>\n",
       "      <td>233</td>\n",
       "      <td>228</td>\n",
       "      <td>A</td>\n",
       "      <td>ADLD</td>\n",
       "      <td>110018</td>\n",
       "      <td>01/02/18</td>\n",
       "      <td>27/01/18</td>\n",
       "      <td>03/02/18</td>\n",
       "      <td>4388</td>\n",
       "      <td>12/02/18</td>\n",
       "      <td>9</td>\n",
       "    </tr>\n",
       "    <tr>\n",
       "      <th>4</th>\n",
       "      <td>2829866</td>\n",
       "      <td>AJ</td>\n",
       "      <td>2</td>\n",
       "      <td>110018</td>\n",
       "      <td>233</td>\n",
       "      <td>233</td>\n",
       "      <td>228</td>\n",
       "      <td>A</td>\n",
       "      <td>ADLD</td>\n",
       "      <td>110034</td>\n",
       "      <td>17/07/17</td>\n",
       "      <td>25/01/17</td>\n",
       "      <td>01/02/18</td>\n",
       "      <td>4388</td>\n",
       "      <td>08/02/18</td>\n",
       "      <td>13</td>\n",
       "    </tr>\n",
       "  </tbody>\n",
       "</table>\n",
       "</div>"
      ],
      "text/plain": [
       "      srno mobmake  hubid  hubpincode  pickuppartnerid  deliverypartnerid  \\\n",
       "0  2829088      AN      3      560011              233                233   \n",
       "1  2851218      AN      7      500004              233                233   \n",
       "2  2838330      AJ     10      226010              233                233   \n",
       "3  2835781      AJ      2      110018              233                233   \n",
       "4  2829866      AJ      2      110018              233                233   \n",
       "\n",
       "   insuranceCompanyId custpincodecategory claimtype  custpincode  \\\n",
       "0                 131                   A      ADLD       560093   \n",
       "1                 131                   A      ADLD       500001   \n",
       "2                 131                   A      ADLD       226022   \n",
       "3                 228                   A      ADLD       110018   \n",
       "4                 228                   A      ADLD       110034   \n",
       "\n",
       "  memcreateddate mobilepurchasedate claimintdate  servicecntrid  \\\n",
       "0       30/07/17           27/07/17     01/02/18           4467   \n",
       "1       27/04/17           02/12/16     08/02/18           4403   \n",
       "2       06/03/17           05/03/17     04/02/18           4444   \n",
       "3       01/02/18           27/01/18     03/02/18           4388   \n",
       "4       17/07/17           25/01/17     01/02/18           4388   \n",
       "\n",
       "  pickupStartdate  tat_in_days  \n",
       "0        06/02/18            6  \n",
       "1        13/02/18            5  \n",
       "2        08/02/18           12  \n",
       "3        12/02/18            9  \n",
       "4        08/02/18           13  "
      ]
     },
     "execution_count": 433,
     "metadata": {},
     "output_type": "execute_result"
    }
   ],
   "source": [
    "df.head()"
   ]
  },
  {
   "cell_type": "code",
   "execution_count": 434,
   "metadata": {},
   "outputs": [
    {
     "data": {
      "text/plain": [
       "(8165,)"
      ]
     },
     "execution_count": 434,
     "metadata": {},
     "output_type": "execute_result"
    }
   ],
   "source": [
    "df['srno'].unique().shape"
   ]
  },
  {
   "cell_type": "code",
   "execution_count": 435,
   "metadata": {},
   "outputs": [
    {
     "data": {
      "text/plain": [
       "(8275, 16)"
      ]
     },
     "execution_count": 435,
     "metadata": {},
     "output_type": "execute_result"
    }
   ],
   "source": [
    "df.shape"
   ]
  },
  {
   "cell_type": "code",
   "execution_count": 436,
   "metadata": {},
   "outputs": [],
   "source": [
    "## dropping overall duplicates in the data\n",
    "df[df.duplicated(keep=False)]\n",
    "df.drop_duplicates(inplace = True)"
   ]
  },
  {
   "cell_type": "code",
   "execution_count": 437,
   "metadata": {
    "scrolled": true
   },
   "outputs": [
    {
     "data": {
      "text/plain": [
       "(8264, 16)"
      ]
     },
     "execution_count": 437,
     "metadata": {},
     "output_type": "execute_result"
    }
   ],
   "source": [
    "df.shape"
   ]
  },
  {
   "cell_type": "code",
   "execution_count": 438,
   "metadata": {},
   "outputs": [
    {
     "data": {
      "text/plain": [
       "(8264, 15)"
      ]
     },
     "execution_count": 438,
     "metadata": {},
     "output_type": "execute_result"
    }
   ],
   "source": [
    "## 'srno' is a serial identifier and shall be removed from the analysis\n",
    "pd.concat(g for _, g in df.groupby(\"srno\") if len(g) > 1).head()\n",
    "df.drop('srno',axis=1,inplace=True)\n",
    "df.shape"
   ]
  },
  {
   "cell_type": "code",
   "execution_count": 439,
   "metadata": {
    "scrolled": true
   },
   "outputs": [
    {
     "name": "stdout",
     "output_type": "stream",
     "text": [
      "<class 'pandas.core.frame.DataFrame'>\n",
      "Int64Index: 8264 entries, 0 to 8274\n",
      "Data columns (total 15 columns):\n",
      "mobmake                8264 non-null object\n",
      "hubid                  8264 non-null int64\n",
      "hubpincode             8264 non-null int64\n",
      "pickuppartnerid        8264 non-null int64\n",
      "deliverypartnerid      8264 non-null int64\n",
      "insuranceCompanyId     8264 non-null int64\n",
      "custpincodecategory    8264 non-null object\n",
      "claimtype              8264 non-null object\n",
      "custpincode            8264 non-null int64\n",
      "memcreateddate         8264 non-null object\n",
      "mobilepurchasedate     8264 non-null object\n",
      "claimintdate           8264 non-null object\n",
      "servicecntrid          8264 non-null int64\n",
      "pickupStartdate        8264 non-null object\n",
      "tat_in_days            8264 non-null int64\n",
      "dtypes: int64(8), object(7)\n",
      "memory usage: 1.0+ MB\n"
     ]
    }
   ],
   "source": [
    "df.info()"
   ]
  },
  {
   "cell_type": "code",
   "execution_count": 440,
   "metadata": {
    "scrolled": true
   },
   "outputs": [],
   "source": [
    "#custpincode has too many categorical value and shall be dropped\n",
    "df.drop('custpincode',axis=1,inplace=True)"
   ]
  },
  {
   "cell_type": "code",
   "execution_count": 441,
   "metadata": {},
   "outputs": [],
   "source": [
    "for col in ['mobmake','hubid','hubpincode','pickuppartnerid','deliverypartnerid','insuranceCompanyId','custpincodecategory','claimtype','servicecntrid']:\n",
    "    df[col] = df[col].astype('object')"
   ]
  },
  {
   "cell_type": "code",
   "execution_count": 442,
   "metadata": {},
   "outputs": [],
   "source": [
    "df['memcreateddate'] = pd.to_datetime(df['memcreateddate'],format='%d/%m/%y')\n",
    "df['mobilepurchasedate'] = pd.to_datetime(df['mobilepurchasedate'],format='%d/%m/%y')\n",
    "df['claimintdate'] = pd.to_datetime(df['claimintdate'],format='%d/%m/%y')\n",
    "df['pickupStartdate'] = pd.to_datetime(df['pickupStartdate'],format='%d/%m/%y')"
   ]
  },
  {
   "cell_type": "code",
   "execution_count": 443,
   "metadata": {},
   "outputs": [],
   "source": [
    "from sklearn import preprocessing\n",
    "for column in df.columns:\n",
    "    if df[column].dtype == type(object):\n",
    "        le = preprocessing.LabelEncoder()\n",
    "        df[column] = le.fit_transform(df[column])"
   ]
  },
  {
   "cell_type": "code",
   "execution_count": 444,
   "metadata": {
    "scrolled": true
   },
   "outputs": [
    {
     "data": {
      "text/plain": [
       "mobmake                 41\n",
       "hubid                   21\n",
       "hubpincode              21\n",
       "pickuppartnerid          4\n",
       "deliverypartnerid        4\n",
       "insuranceCompanyId       2\n",
       "custpincodecategory      5\n",
       "claimtype                2\n",
       "memcreateddate         671\n",
       "mobilepurchasedate     813\n",
       "claimintdate            81\n",
       "servicecntrid          145\n",
       "pickupStartdate         83\n",
       "tat_in_days             46\n",
       "dtype: int64"
      ]
     },
     "execution_count": 444,
     "metadata": {},
     "output_type": "execute_result"
    }
   ],
   "source": [
    "df.apply(lambda x: len(x.unique()))"
   ]
  },
  {
   "cell_type": "code",
   "execution_count": 445,
   "metadata": {
    "scrolled": true
   },
   "outputs": [
    {
     "data": {
      "text/plain": [
       "mobmake                         int64\n",
       "hubid                           int64\n",
       "hubpincode                      int64\n",
       "pickuppartnerid                 int64\n",
       "deliverypartnerid               int64\n",
       "insuranceCompanyId              int64\n",
       "custpincodecategory             int64\n",
       "claimtype                       int64\n",
       "memcreateddate         datetime64[ns]\n",
       "mobilepurchasedate     datetime64[ns]\n",
       "claimintdate           datetime64[ns]\n",
       "servicecntrid                   int64\n",
       "pickupStartdate        datetime64[ns]\n",
       "tat_in_days                     int64\n",
       "dtype: object"
      ]
     },
     "execution_count": 445,
     "metadata": {},
     "output_type": "execute_result"
    }
   ],
   "source": [
    "df.dtypes"
   ]
  },
  {
   "cell_type": "code",
   "execution_count": 446,
   "metadata": {},
   "outputs": [
    {
     "data": {
      "text/plain": [
       "mobmake                         int64\n",
       "hubid                           int64\n",
       "hubpincode                      int64\n",
       "pickuppartnerid                 int64\n",
       "deliverypartnerid               int64\n",
       "insuranceCompanyId              int64\n",
       "custpincodecategory             int64\n",
       "claimtype                       int64\n",
       "memcreateddate         datetime64[ns]\n",
       "mobilepurchasedate     datetime64[ns]\n",
       "claimintdate           datetime64[ns]\n",
       "servicecntrid                   int64\n",
       "pickupStartdate        datetime64[ns]\n",
       "tat_in_days                     int64\n",
       "mem_claim_days                  int64\n",
       "purchase_claim_days             int64\n",
       "claim_pickup_days               int64\n",
       "dtype: object"
      ]
     },
     "execution_count": 446,
     "metadata": {},
     "output_type": "execute_result"
    }
   ],
   "source": [
    "df['mem_claim_days'] = (df['claimintdate'] - df['memcreateddate']).dt.days\n",
    "df['purchase_claim_days'] = (df['claimintdate'] - df['mobilepurchasedate']).dt.days\n",
    "df['claim_pickup_days'] = (df['pickupStartdate'] - df['claimintdate']).dt.days\n",
    "\n",
    "df.dtypes"
   ]
  },
  {
   "cell_type": "code",
   "execution_count": 447,
   "metadata": {
    "scrolled": true
   },
   "outputs": [
    {
     "data": {
      "text/html": [
       "<div>\n",
       "<style scoped>\n",
       "    .dataframe tbody tr th:only-of-type {\n",
       "        vertical-align: middle;\n",
       "    }\n",
       "\n",
       "    .dataframe tbody tr th {\n",
       "        vertical-align: top;\n",
       "    }\n",
       "\n",
       "    .dataframe thead th {\n",
       "        text-align: right;\n",
       "    }\n",
       "</style>\n",
       "<table border=\"1\" class=\"dataframe\">\n",
       "  <thead>\n",
       "    <tr style=\"text-align: right;\">\n",
       "      <th></th>\n",
       "      <th>mobmake</th>\n",
       "      <th>hubid</th>\n",
       "      <th>hubpincode</th>\n",
       "      <th>pickuppartnerid</th>\n",
       "      <th>deliverypartnerid</th>\n",
       "      <th>insuranceCompanyId</th>\n",
       "      <th>custpincodecategory</th>\n",
       "      <th>claimtype</th>\n",
       "      <th>memcreateddate</th>\n",
       "      <th>mobilepurchasedate</th>\n",
       "      <th>claimintdate</th>\n",
       "      <th>servicecntrid</th>\n",
       "      <th>pickupStartdate</th>\n",
       "      <th>tat_in_days</th>\n",
       "      <th>mem_claim_days</th>\n",
       "      <th>purchase_claim_days</th>\n",
       "      <th>claim_pickup_days</th>\n",
       "    </tr>\n",
       "  </thead>\n",
       "  <tbody>\n",
       "    <tr>\n",
       "      <th>0</th>\n",
       "      <td>14</td>\n",
       "      <td>3</td>\n",
       "      <td>14</td>\n",
       "      <td>2</td>\n",
       "      <td>2</td>\n",
       "      <td>0</td>\n",
       "      <td>1</td>\n",
       "      <td>0</td>\n",
       "      <td>2017-07-30</td>\n",
       "      <td>2017-07-27</td>\n",
       "      <td>2018-02-01</td>\n",
       "      <td>92</td>\n",
       "      <td>2018-02-06</td>\n",
       "      <td>6</td>\n",
       "      <td>186</td>\n",
       "      <td>189</td>\n",
       "      <td>5</td>\n",
       "    </tr>\n",
       "    <tr>\n",
       "      <th>1</th>\n",
       "      <td>14</td>\n",
       "      <td>7</td>\n",
       "      <td>13</td>\n",
       "      <td>2</td>\n",
       "      <td>2</td>\n",
       "      <td>0</td>\n",
       "      <td>1</td>\n",
       "      <td>0</td>\n",
       "      <td>2017-04-27</td>\n",
       "      <td>2016-12-02</td>\n",
       "      <td>2018-02-08</td>\n",
       "      <td>53</td>\n",
       "      <td>2018-02-13</td>\n",
       "      <td>5</td>\n",
       "      <td>287</td>\n",
       "      <td>433</td>\n",
       "      <td>5</td>\n",
       "    </tr>\n",
       "    <tr>\n",
       "      <th>2</th>\n",
       "      <td>10</td>\n",
       "      <td>10</td>\n",
       "      <td>6</td>\n",
       "      <td>2</td>\n",
       "      <td>2</td>\n",
       "      <td>0</td>\n",
       "      <td>1</td>\n",
       "      <td>0</td>\n",
       "      <td>2017-03-06</td>\n",
       "      <td>2017-03-05</td>\n",
       "      <td>2018-02-04</td>\n",
       "      <td>79</td>\n",
       "      <td>2018-02-08</td>\n",
       "      <td>12</td>\n",
       "      <td>335</td>\n",
       "      <td>336</td>\n",
       "      <td>4</td>\n",
       "    </tr>\n",
       "    <tr>\n",
       "      <th>3</th>\n",
       "      <td>10</td>\n",
       "      <td>2</td>\n",
       "      <td>2</td>\n",
       "      <td>2</td>\n",
       "      <td>2</td>\n",
       "      <td>1</td>\n",
       "      <td>1</td>\n",
       "      <td>0</td>\n",
       "      <td>2018-02-01</td>\n",
       "      <td>2018-01-27</td>\n",
       "      <td>2018-02-03</td>\n",
       "      <td>42</td>\n",
       "      <td>2018-02-12</td>\n",
       "      <td>9</td>\n",
       "      <td>2</td>\n",
       "      <td>7</td>\n",
       "      <td>9</td>\n",
       "    </tr>\n",
       "    <tr>\n",
       "      <th>4</th>\n",
       "      <td>10</td>\n",
       "      <td>2</td>\n",
       "      <td>2</td>\n",
       "      <td>2</td>\n",
       "      <td>2</td>\n",
       "      <td>1</td>\n",
       "      <td>1</td>\n",
       "      <td>0</td>\n",
       "      <td>2017-07-17</td>\n",
       "      <td>2017-01-25</td>\n",
       "      <td>2018-02-01</td>\n",
       "      <td>42</td>\n",
       "      <td>2018-02-08</td>\n",
       "      <td>13</td>\n",
       "      <td>199</td>\n",
       "      <td>372</td>\n",
       "      <td>7</td>\n",
       "    </tr>\n",
       "  </tbody>\n",
       "</table>\n",
       "</div>"
      ],
      "text/plain": [
       "   mobmake  hubid  hubpincode  pickuppartnerid  deliverypartnerid  \\\n",
       "0       14      3          14                2                  2   \n",
       "1       14      7          13                2                  2   \n",
       "2       10     10           6                2                  2   \n",
       "3       10      2           2                2                  2   \n",
       "4       10      2           2                2                  2   \n",
       "\n",
       "   insuranceCompanyId  custpincodecategory  claimtype memcreateddate  \\\n",
       "0                   0                    1          0     2017-07-30   \n",
       "1                   0                    1          0     2017-04-27   \n",
       "2                   0                    1          0     2017-03-06   \n",
       "3                   1                    1          0     2018-02-01   \n",
       "4                   1                    1          0     2017-07-17   \n",
       "\n",
       "  mobilepurchasedate claimintdate  servicecntrid pickupStartdate  tat_in_days  \\\n",
       "0         2017-07-27   2018-02-01             92      2018-02-06            6   \n",
       "1         2016-12-02   2018-02-08             53      2018-02-13            5   \n",
       "2         2017-03-05   2018-02-04             79      2018-02-08           12   \n",
       "3         2018-01-27   2018-02-03             42      2018-02-12            9   \n",
       "4         2017-01-25   2018-02-01             42      2018-02-08           13   \n",
       "\n",
       "   mem_claim_days  purchase_claim_days  claim_pickup_days  \n",
       "0             186                  189                  5  \n",
       "1             287                  433                  5  \n",
       "2             335                  336                  4  \n",
       "3               2                    7                  9  \n",
       "4             199                  372                  7  "
      ]
     },
     "execution_count": 447,
     "metadata": {},
     "output_type": "execute_result"
    }
   ],
   "source": [
    "df.head()"
   ]
  },
  {
   "cell_type": "code",
   "execution_count": 448,
   "metadata": {
    "scrolled": true
   },
   "outputs": [],
   "source": [
    "y = df['tat_in_days']\n",
    "df.drop(['memcreateddate','mobilepurchasedate','claimintdate','pickupStartdate','tat_in_days'],axis=1,inplace=True)"
   ]
  },
  {
   "cell_type": "code",
   "execution_count": 449,
   "metadata": {
    "scrolled": false
   },
   "outputs": [
    {
     "data": {
      "text/plain": [
       "['mobmake',\n",
       " 'hubid',\n",
       " 'hubpincode',\n",
       " 'pickuppartnerid',\n",
       " 'deliverypartnerid',\n",
       " 'insuranceCompanyId',\n",
       " 'custpincodecategory',\n",
       " 'claimtype',\n",
       " 'servicecntrid',\n",
       " 'mem_claim_days',\n",
       " 'purchase_claim_days',\n",
       " 'claim_pickup_days']"
      ]
     },
     "execution_count": 449,
     "metadata": {},
     "output_type": "execute_result"
    }
   ],
   "source": [
    "df.columns.tolist()"
   ]
  },
  {
   "cell_type": "code",
   "execution_count": 450,
   "metadata": {
    "scrolled": true
   },
   "outputs": [
    {
     "data": {
      "text/plain": [
       "mobmake                int64\n",
       "hubid                  int64\n",
       "hubpincode             int64\n",
       "pickuppartnerid        int64\n",
       "deliverypartnerid      int64\n",
       "insuranceCompanyId     int64\n",
       "custpincodecategory    int64\n",
       "claimtype              int64\n",
       "servicecntrid          int64\n",
       "mem_claim_days         int64\n",
       "purchase_claim_days    int64\n",
       "claim_pickup_days      int64\n",
       "dtype: object"
      ]
     },
     "execution_count": 450,
     "metadata": {},
     "output_type": "execute_result"
    }
   ],
   "source": [
    "df.dtypes"
   ]
  },
  {
   "cell_type": "code",
   "execution_count": 451,
   "metadata": {},
   "outputs": [
    {
     "data": {
      "image/png": "[encoded data removed]",
      "text/plain": [
       "<matplotlib.figure.Figure at 0x1a2115eb00>"
      ]
     },
     "metadata": {},
     "output_type": "display_data"
    }
   ],
   "source": [
    "import matplotlib.pyplot as plt\n",
    "df.hist(bins=50,figsize=(20,15))\n",
    "plt.show()"
   ]
  },
  {
   "cell_type": "code",
   "execution_count": 452,
   "metadata": {
    "scrolled": false
   },
   "outputs": [],
   "source": [
    "df['servicecntrcount'] = df.groupby('servicecntrid')['servicecntrid'].transform('count')\n",
    "df['servicecntrGroup'] = np.where(df['servicecntrcount']<=30, 0, df.servicecntrid)"
   ]
  },
  {
   "cell_type": "code",
   "execution_count": 453,
   "metadata": {},
   "outputs": [
    {
     "data": {
      "text/plain": [
       "49"
      ]
     },
     "execution_count": 453,
     "metadata": {},
     "output_type": "execute_result"
    }
   ],
   "source": [
    "#df.groupby(['servicecntrGroup','servicecntrid']).count()\n",
    "len(df.servicecntrGroup.value_counts())\n",
    "#df[df['servicecntrGroup']=='Others']"
   ]
  },
  {
   "cell_type": "code",
   "execution_count": 454,
   "metadata": {},
   "outputs": [],
   "source": [
    "df.drop(['servicecntrcount','servicecntrid'],axis=1,inplace=True)"
   ]
  },
  {
   "cell_type": "code",
   "execution_count": 455,
   "metadata": {},
   "outputs": [
    {
     "data": {
      "text/plain": [
       "(8264, 12)"
      ]
     },
     "execution_count": 455,
     "metadata": {},
     "output_type": "execute_result"
    }
   ],
   "source": [
    "df.shape"
   ]
  },
  {
   "cell_type": "code",
   "execution_count": 456,
   "metadata": {},
   "outputs": [
    {
     "data": {
      "text/html": [
       "<div>\n",
       "<style scoped>\n",
       "    .dataframe tbody tr th:only-of-type {\n",
       "        vertical-align: middle;\n",
       "    }\n",
       "\n",
       "    .dataframe tbody tr th {\n",
       "        vertical-align: top;\n",
       "    }\n",
       "\n",
       "    .dataframe thead th {\n",
       "        text-align: right;\n",
       "    }\n",
       "</style>\n",
       "<table border=\"1\" class=\"dataframe\">\n",
       "  <thead>\n",
       "    <tr style=\"text-align: right;\">\n",
       "      <th></th>\n",
       "      <th>mobmake</th>\n",
       "      <th>hubid</th>\n",
       "      <th>hubpincode</th>\n",
       "      <th>pickuppartnerid</th>\n",
       "      <th>deliverypartnerid</th>\n",
       "      <th>insuranceCompanyId</th>\n",
       "      <th>custpincodecategory</th>\n",
       "      <th>claimtype</th>\n",
       "      <th>mem_claim_days</th>\n",
       "      <th>purchase_claim_days</th>\n",
       "      <th>claim_pickup_days</th>\n",
       "      <th>servicecntrGroup</th>\n",
       "    </tr>\n",
       "  </thead>\n",
       "  <tbody>\n",
       "    <tr>\n",
       "      <th>mobmake</th>\n",
       "      <td>1.000000</td>\n",
       "      <td>-0.154419</td>\n",
       "      <td>-0.051154</td>\n",
       "      <td>-0.003857</td>\n",
       "      <td>-0.008519</td>\n",
       "      <td>-0.074947</td>\n",
       "      <td>0.002400</td>\n",
       "      <td>0.022731</td>\n",
       "      <td>0.018377</td>\n",
       "      <td>0.010025</td>\n",
       "      <td>0.022816</td>\n",
       "      <td>0.086756</td>\n",
       "    </tr>\n",
       "    <tr>\n",
       "      <th>hubid</th>\n",
       "      <td>-0.154419</td>\n",
       "      <td>1.000000</td>\n",
       "      <td>0.036594</td>\n",
       "      <td>-0.004441</td>\n",
       "      <td>-0.012076</td>\n",
       "      <td>-0.147345</td>\n",
       "      <td>0.078019</td>\n",
       "      <td>0.002699</td>\n",
       "      <td>0.103156</td>\n",
       "      <td>0.004283</td>\n",
       "      <td>-0.010669</td>\n",
       "      <td>0.423199</td>\n",
       "    </tr>\n",
       "    <tr>\n",
       "      <th>hubpincode</th>\n",
       "      <td>-0.051154</td>\n",
       "      <td>0.036594</td>\n",
       "      <td>1.000000</td>\n",
       "      <td>-0.065092</td>\n",
       "      <td>-0.025397</td>\n",
       "      <td>-0.087666</td>\n",
       "      <td>0.083500</td>\n",
       "      <td>0.008296</td>\n",
       "      <td>0.034384</td>\n",
       "      <td>-0.026439</td>\n",
       "      <td>-0.026935</td>\n",
       "      <td>0.073352</td>\n",
       "    </tr>\n",
       "    <tr>\n",
       "      <th>pickuppartnerid</th>\n",
       "      <td>-0.003857</td>\n",
       "      <td>-0.004441</td>\n",
       "      <td>-0.065092</td>\n",
       "      <td>1.000000</td>\n",
       "      <td>0.225590</td>\n",
       "      <td>0.085226</td>\n",
       "      <td>-0.129722</td>\n",
       "      <td>-0.010465</td>\n",
       "      <td>0.007710</td>\n",
       "      <td>0.034024</td>\n",
       "      <td>0.002350</td>\n",
       "      <td>0.004189</td>\n",
       "    </tr>\n",
       "    <tr>\n",
       "      <th>deliverypartnerid</th>\n",
       "      <td>-0.008519</td>\n",
       "      <td>-0.012076</td>\n",
       "      <td>-0.025397</td>\n",
       "      <td>0.225590</td>\n",
       "      <td>1.000000</td>\n",
       "      <td>-0.017806</td>\n",
       "      <td>-0.037493</td>\n",
       "      <td>-0.028627</td>\n",
       "      <td>0.051875</td>\n",
       "      <td>0.034781</td>\n",
       "      <td>0.007723</td>\n",
       "      <td>0.020543</td>\n",
       "    </tr>\n",
       "    <tr>\n",
       "      <th>insuranceCompanyId</th>\n",
       "      <td>-0.074947</td>\n",
       "      <td>-0.147345</td>\n",
       "      <td>-0.087666</td>\n",
       "      <td>0.085226</td>\n",
       "      <td>-0.017806</td>\n",
       "      <td>1.000000</td>\n",
       "      <td>-0.091279</td>\n",
       "      <td>0.050676</td>\n",
       "      <td>-0.332845</td>\n",
       "      <td>0.021392</td>\n",
       "      <td>-0.045614</td>\n",
       "      <td>-0.209590</td>\n",
       "    </tr>\n",
       "    <tr>\n",
       "      <th>custpincodecategory</th>\n",
       "      <td>0.002400</td>\n",
       "      <td>0.078019</td>\n",
       "      <td>0.083500</td>\n",
       "      <td>-0.129722</td>\n",
       "      <td>-0.037493</td>\n",
       "      <td>-0.091279</td>\n",
       "      <td>1.000000</td>\n",
       "      <td>-0.005567</td>\n",
       "      <td>-0.057143</td>\n",
       "      <td>-0.071657</td>\n",
       "      <td>0.018262</td>\n",
       "      <td>0.090630</td>\n",
       "    </tr>\n",
       "    <tr>\n",
       "      <th>claimtype</th>\n",
       "      <td>0.022731</td>\n",
       "      <td>0.002699</td>\n",
       "      <td>0.008296</td>\n",
       "      <td>-0.010465</td>\n",
       "      <td>-0.028627</td>\n",
       "      <td>0.050676</td>\n",
       "      <td>-0.005567</td>\n",
       "      <td>1.000000</td>\n",
       "      <td>0.045906</td>\n",
       "      <td>0.034821</td>\n",
       "      <td>-0.000800</td>\n",
       "      <td>0.009209</td>\n",
       "    </tr>\n",
       "    <tr>\n",
       "      <th>mem_claim_days</th>\n",
       "      <td>0.018377</td>\n",
       "      <td>0.103156</td>\n",
       "      <td>0.034384</td>\n",
       "      <td>0.007710</td>\n",
       "      <td>0.051875</td>\n",
       "      <td>-0.332845</td>\n",
       "      <td>-0.057143</td>\n",
       "      <td>0.045906</td>\n",
       "      <td>1.000000</td>\n",
       "      <td>0.628269</td>\n",
       "      <td>0.004577</td>\n",
       "      <td>0.139683</td>\n",
       "    </tr>\n",
       "    <tr>\n",
       "      <th>purchase_claim_days</th>\n",
       "      <td>0.010025</td>\n",
       "      <td>0.004283</td>\n",
       "      <td>-0.026439</td>\n",
       "      <td>0.034024</td>\n",
       "      <td>0.034781</td>\n",
       "      <td>0.021392</td>\n",
       "      <td>-0.071657</td>\n",
       "      <td>0.034821</td>\n",
       "      <td>0.628269</td>\n",
       "      <td>1.000000</td>\n",
       "      <td>0.006408</td>\n",
       "      <td>0.020716</td>\n",
       "    </tr>\n",
       "    <tr>\n",
       "      <th>claim_pickup_days</th>\n",
       "      <td>0.022816</td>\n",
       "      <td>-0.010669</td>\n",
       "      <td>-0.026935</td>\n",
       "      <td>0.002350</td>\n",
       "      <td>0.007723</td>\n",
       "      <td>-0.045614</td>\n",
       "      <td>0.018262</td>\n",
       "      <td>-0.000800</td>\n",
       "      <td>0.004577</td>\n",
       "      <td>0.006408</td>\n",
       "      <td>1.000000</td>\n",
       "      <td>-0.009912</td>\n",
       "    </tr>\n",
       "    <tr>\n",
       "      <th>servicecntrGroup</th>\n",
       "      <td>0.086756</td>\n",
       "      <td>0.423199</td>\n",
       "      <td>0.073352</td>\n",
       "      <td>0.004189</td>\n",
       "      <td>0.020543</td>\n",
       "      <td>-0.209590</td>\n",
       "      <td>0.090630</td>\n",
       "      <td>0.009209</td>\n",
       "      <td>0.139683</td>\n",
       "      <td>0.020716</td>\n",
       "      <td>-0.009912</td>\n",
       "      <td>1.000000</td>\n",
       "    </tr>\n",
       "  </tbody>\n",
       "</table>\n",
       "</div>"
      ],
      "text/plain": [
       "                      mobmake     hubid  hubpincode  pickuppartnerid  \\\n",
       "mobmake              1.000000 -0.154419   -0.051154        -0.003857   \n",
       "hubid               -0.154419  1.000000    0.036594        -0.004441   \n",
       "hubpincode          -0.051154  0.036594    1.000000        -0.065092   \n",
       "pickuppartnerid     -0.003857 -0.004441   -0.065092         1.000000   \n",
       "deliverypartnerid   -0.008519 -0.012076   -0.025397         0.225590   \n",
       "insuranceCompanyId  -0.074947 -0.147345   -0.087666         0.085226   \n",
       "custpincodecategory  0.002400  0.078019    0.083500        -0.129722   \n",
       "claimtype            0.022731  0.002699    0.008296        -0.010465   \n",
       "mem_claim_days       0.018377  0.103156    0.034384         0.007710   \n",
       "purchase_claim_days  0.010025  0.004283   -0.026439         0.034024   \n",
       "claim_pickup_days    0.022816 -0.010669   -0.026935         0.002350   \n",
       "servicecntrGroup     0.086756  0.423199    0.073352         0.004189   \n",
       "\n",
       "                     deliverypartnerid  insuranceCompanyId  \\\n",
       "mobmake                      -0.008519           -0.074947   \n",
       "hubid                        -0.012076           -0.147345   \n",
       "hubpincode                   -0.025397           -0.087666   \n",
       "pickuppartnerid               0.225590            0.085226   \n",
       "deliverypartnerid             1.000000           -0.017806   \n",
       "insuranceCompanyId           -0.017806            1.000000   \n",
       "custpincodecategory          -0.037493           -0.091279   \n",
       "claimtype                    -0.028627            0.050676   \n",
       "mem_claim_days                0.051875           -0.332845   \n",
       "purchase_claim_days           0.034781            0.021392   \n",
       "claim_pickup_days             0.007723           -0.045614   \n",
       "servicecntrGroup              0.020543           -0.209590   \n",
       "\n",
       "                     custpincodecategory  claimtype  mem_claim_days  \\\n",
       "mobmake                         0.002400   0.022731        0.018377   \n",
       "hubid                           0.078019   0.002699        0.103156   \n",
       "hubpincode                      0.083500   0.008296        0.034384   \n",
       "pickuppartnerid                -0.129722  -0.010465        0.007710   \n",
       "deliverypartnerid              -0.037493  -0.028627        0.051875   \n",
       "insuranceCompanyId             -0.091279   0.050676       -0.332845   \n",
       "custpincodecategory             1.000000  -0.005567       -0.057143   \n",
       "claimtype                      -0.005567   1.000000        0.045906   \n",
       "mem_claim_days                 -0.057143   0.045906        1.000000   \n",
       "purchase_claim_days            -0.071657   0.034821        0.628269   \n",
       "claim_pickup_days               0.018262  -0.000800        0.004577   \n",
       "servicecntrGroup                0.090630   0.009209        0.139683   \n",
       "\n",
       "                     purchase_claim_days  claim_pickup_days  servicecntrGroup  \n",
       "mobmake                         0.010025           0.022816          0.086756  \n",
       "hubid                           0.004283          -0.010669          0.423199  \n",
       "hubpincode                     -0.026439          -0.026935          0.073352  \n",
       "pickuppartnerid                 0.034024           0.002350          0.004189  \n",
       "deliverypartnerid               0.034781           0.007723          0.020543  \n",
       "insuranceCompanyId              0.021392          -0.045614         -0.209590  \n",
       "custpincodecategory            -0.071657           0.018262          0.090630  \n",
       "claimtype                       0.034821          -0.000800          0.009209  \n",
       "mem_claim_days                  0.628269           0.004577          0.139683  \n",
       "purchase_claim_days             1.000000           0.006408          0.020716  \n",
       "claim_pickup_days               0.006408           1.000000         -0.009912  \n",
       "servicecntrGroup                0.020716          -0.009912          1.000000  "
      ]
     },
     "execution_count": 456,
     "metadata": {},
     "output_type": "execute_result"
    }
   ],
   "source": [
    "corr = df.corr()\n",
    "corr"
   ]
  },
  {
   "cell_type": "code",
   "execution_count": 457,
   "metadata": {},
   "outputs": [],
   "source": [
    "for col in ['mobmake','hubid','hubpincode','pickuppartnerid','deliverypartnerid','insuranceCompanyId','custpincodecategory','claimtype','servicecntrGroup']:\n",
    "    df[col] = df[col].astype('category')\n",
    "df = pd.get_dummies(df,drop_first=True)"
   ]
  },
  {
   "cell_type": "code",
   "execution_count": 458,
   "metadata": {},
   "outputs": [
    {
     "data": {
      "text/plain": [
       "(8264, 143)"
      ]
     },
     "execution_count": 458,
     "metadata": {},
     "output_type": "execute_result"
    }
   ],
   "source": [
    "X = df\n",
    "X.dtypes\n",
    "X.shape"
   ]
  },
  {
   "cell_type": "code",
   "execution_count": 459,
   "metadata": {
    "scrolled": false
   },
   "outputs": [
    {
     "data": {
      "text/plain": [
       "(8264,)"
      ]
     },
     "execution_count": 459,
     "metadata": {},
     "output_type": "execute_result"
    }
   ],
   "source": [
    "y.shape"
   ]
  },
  {
   "cell_type": "code",
   "execution_count": 460,
   "metadata": {},
   "outputs": [],
   "source": [
    "from sklearn.model_selection import train_test_split\n",
    "\n",
    "X_train, X_test, y_train, y_test = train_test_split(X, y, random_state=0)"
   ]
  },
  {
   "cell_type": "code",
   "execution_count": null,
   "metadata": {
    "scrolled": true
   },
   "outputs": [],
   "source": [
    "from sklearn.ensemble import RandomForestRegressor\n",
    "from sklearn.metrics import mean_squared_error, r2_score\n",
    "from sklearn.dummy import DummyRegressor\n",
    "from sklearn.model_selection import RandomizedSearchCV\n",
    "\n",
    "# Number of trees in random forest\n",
    "n_estimators = [int(x) for x in np.linspace(start = 200, stop = 2000, num = 10)]\n",
    "# Number of features to consider at every split\n",
    "max_features = ['auto', 'sqrt']\n",
    "# Maximum number of levels in tree\n",
    "max_depth = [int(x) for x in np.linspace(10, 110, num = 11)]\n",
    "max_depth.append(None)\n",
    "# Minimum number of samples required to split a node\n",
    "min_samples_split = [2, 5, 10]\n",
    "# Minimum number of samples required at each leaf node\n",
    "min_samples_leaf = [1, 2, 4]\n",
    "# Method of selecting samples for training each tree\n",
    "bootstrap = [True, False]\n",
    "# Create the random grid\n",
    "random_grid = {'n_estimators': n_estimators,\n",
    "               'max_features': max_features,\n",
    "               'max_depth': max_depth,\n",
    "               'min_samples_split': min_samples_split,\n",
    "               'min_samples_leaf': min_samples_leaf,\n",
    "               'bootstrap': bootstrap}\n",
    "\n",
    "print(random_grid)\n",
    "\n",
    "# Use the random grid to search for best hyperparameters\n",
    "# First create the base model to tune\n",
    "rf = RandomForestRegressor()\n",
    "# Random search of parameters, using 3 fold cross validation, \n",
    "# search across 100 different combinations, and use all available cores\n",
    "rf_random = RandomizedSearchCV(estimator = rf, param_distributions = random_grid, n_iter = 20, cv = 3, verbose=2, random_state=42, n_jobs = -1)\n",
    "# Fit the random search model\n",
    "rf_random.fit(X_train, y_train)"
   ]
  },
  {
   "cell_type": "code",
   "execution_count": 32,
   "metadata": {
    "scrolled": false
   },
   "outputs": [
    {
     "data": {
      "text/plain": [
       "{'bootstrap': True,\n",
       " 'max_depth': 60,\n",
       " 'max_features': 'sqrt',\n",
       " 'min_samples_leaf': 2,\n",
       " 'min_samples_split': 10,\n",
       " 'n_estimators': 600}"
      ]
     },
     "execution_count": 32,
     "metadata": {},
     "output_type": "execute_result"
    }
   ],
   "source": [
    "rf_random.best_params_"
   ]
  },
  {
   "cell_type": "code",
   "execution_count": 463,
   "metadata": {
    "scrolled": false
   },
   "outputs": [
    {
     "name": "stdout",
     "output_type": "stream",
     "text": [
      "Mean squared error (dummy): 26.76\n",
      "Mean squared error (RF) : 20.61\n",
      "r2_score (dummy): -0.00\n",
      "r2_score (RF): 0.23\n",
      "OOB Score: 0.25\n",
      "Parameters: {'bootstrap': True, 'criterion': 'mse', 'max_depth': 20, 'max_features': 'sqrt', 'max_leaf_nodes': None, 'min_impurity_decrease': 0.0, 'min_impurity_split': None, 'min_samples_leaf': 2, 'min_samples_split': 10, 'min_weight_fraction_leaf': 0.0, 'n_estimators': 600, 'n_jobs': 1, 'oob_score': True, 'random_state': None, 'verbose': 0, 'warm_start': False}\n"
     ]
    }
   ],
   "source": [
    "regr = RandomForestRegressor(bootstrap=True,max_depth=20,max_features='sqrt',min_samples_leaf=2,min_samples_split= 10,n_estimators=600,oob_score=True)\n",
    "regr.fit(X_train, y_train)\n",
    "\n",
    "regr_dummy_mean = DummyRegressor(strategy = 'mean').fit(X_train, y_train)\n",
    "\n",
    "y_predict = regr.predict(X_test)\n",
    "y_predict_dummy_mean = regr_dummy_mean.predict(X_test)\n",
    "\n",
    "print(\"Mean squared error (dummy): {:.2f}\".format(mean_squared_error(y_test, y_predict_dummy_mean)))\n",
    "print(\"Mean squared error (RF) : {:.2f}\".format(mean_squared_error(y_test, y_predict)))\n",
    "print(\"r2_score (dummy): {:.2f}\".format(r2_score(y_test, y_predict_dummy_mean)))\n",
    "print(\"r2_score (RF): {:.2f}\".format(r2_score(y_test, y_predict)))\n",
    "print(\"OOB Score: {:.2f}\".format(regr.oob_score_))\n",
    "\n",
    "print('Parameters:', regr.get_params())"
   ]
  },
  {
   "cell_type": "code",
   "execution_count": 464,
   "metadata": {},
   "outputs": [
    {
     "name": "stdout",
     "output_type": "stream",
     "text": [
      "Linear model, coefficients:  [ 9.58015723e-04  4.35039954e-04  2.50171385e-02  2.64463227e+00\n",
      "  5.47592043e+00 -3.88461485e-12  2.70535279e+00  1.73367503e+00\n",
      " -1.23600699e-01  2.89087791e+00  1.43631379e+00  2.97354067e+00\n",
      "  1.97099244e+00  7.37818459e+00  1.29986377e+01  3.23789270e+00\n",
      "  1.30975857e+00 -4.54697631e-03  1.40976458e+00  2.10820192e+01\n",
      "  1.15573703e+01  3.32599514e+00  9.81956404e+00  6.98799774e+00\n",
      "  5.77234851e+00  8.41646159e+00  1.31127943e+01  5.88507495e+00\n",
      "  8.88018995e+00  5.42754507e+00  2.45360305e+01  2.60374853e+00\n",
      "  1.35071403e+01  8.57944969e+00  1.62088076e+01  2.28465986e+00\n",
      "  4.54964051e+00  6.36386507e+00  4.52146941e+00  4.40744433e+00\n",
      "  1.12592996e+01  2.08606147e+00  4.70427350e+00  5.41492473e+00\n",
      "  5.01426163e+00  4.02829542e+00  4.06469056e+00  3.86870563e+00\n",
      "  4.35001562e+00  2.56699846e+00  5.62341320e+00  4.74722546e+00\n",
      "  5.32836605e+00  3.88638799e+00  5.46132446e+00  5.76258605e+00\n",
      "  5.10666551e+00  3.36392352e+00  4.41376643e+00  5.24782841e+00\n",
      "  4.31934008e+00  3.14570200e+00  5.00241836e+00  5.10666551e+00\n",
      "  5.01426163e+00  5.00241836e+00  5.24782841e+00  4.35001562e+00\n",
      "  5.32836605e+00  5.46132446e+00  3.86870563e+00  4.41376643e+00\n",
      "  5.41492473e+00  3.36392352e+00  4.74722546e+00  2.56699846e+00\n",
      "  4.02829542e+00  4.31934008e+00  3.14570200e+00  4.06469056e+00\n",
      "  3.88638799e+00  5.62341320e+00  5.76258605e+00  2.90158319e+00\n",
      "  7.39972594e-01  2.77214114e-01 -1.68143495e+00 -2.68555839e+00\n",
      " -3.00136886e+00 -5.19840291e-01 -4.06274220e+00 -1.39441671e+00\n",
      " -9.45270002e-01 -1.98109407e+00  9.02239929e+00 -2.56068135e-01\n",
      " -6.48450837e-01  1.80239733e+00 -4.81492650e-01 -7.55780294e-01\n",
      " -3.04814768e+00 -4.26081825e-01  1.65250691e-01 -8.01876691e-01\n",
      "  3.83618577e-01 -2.95116084e+00 -7.58592290e-01 -1.16801838e+00\n",
      " -1.05029698e+00 -7.94652897e-01  1.54783577e+00 -2.15710197e+00\n",
      " -2.76682493e-01 -2.76708246e+00 -2.04851219e+00 -9.11926278e-01\n",
      " -1.93594694e+00  1.50786860e+00 -1.27777937e+00  1.08228035e+00\n",
      "  1.15395150e+00  3.06561072e+00  1.51624151e+00 -2.12953582e-01\n",
      "  2.05889784e-01 -1.14037763e+00 -9.94403748e-01 -2.13188276e+00\n",
      " -1.55572549e+00  1.28995781e+00 -2.54386979e+00 -6.35424434e-03\n",
      " -1.65553791e+00 -2.27889751e+00 -1.19615879e+00 -9.14856167e-01\n",
      " -7.52231563e-01 -1.57893857e+00 -2.72761118e+00  2.13494755e+00\n",
      " -1.54332874e+00  1.66692376e+00 -2.49527113e+00]\n",
      "Mean squared error (dummy): 26.76\n",
      "Mean squared error (linear model): 20.45\n",
      "r2_score (dummy): -0.00\n",
      "r2_score (linear model): 0.23\n"
     ]
    },
    {
     "data": {
      "text/plain": [
       "<matplotlib.collections.PathCollection at 0x1a219a1b00>"
      ]
     },
     "execution_count": 464,
     "metadata": {},
     "output_type": "execute_result"
    },
    {
     "data": {
      "image/png": "[encoded data removed]",
      "text/plain": [
       "<matplotlib.figure.Figure at 0x1a21a83a58>"
      ]
     },
     "metadata": {},
     "output_type": "display_data"
    }
   ],
   "source": [
    "from sklearn import linear_model\n",
    "from scipy import stats\n",
    "import numpy as np\n",
    "from sklearn.metrics import mean_squared_error, r2_score\n",
    "from sklearn.dummy import DummyRegressor\n",
    "import matplotlib.pyplot as plt\n",
    "\n",
    "lm = linear_model.LinearRegression().fit(X_train, y_train)\n",
    "lm_dummy_mean = DummyRegressor(strategy = 'mean').fit(X_train, y_train)\n",
    "\n",
    "y_predict = lm.predict(X_test)\n",
    "y_predict_dummy_mean = lm_dummy_mean.predict(X_test)\n",
    "\n",
    "print('Linear model, coefficients: ', lm.coef_)\n",
    "print(\"Mean squared error (dummy): {:.2f}\".format(mean_squared_error(y_test, y_predict_dummy_mean)))\n",
    "print(\"Mean squared error (linear model): {:.2f}\".format(mean_squared_error(y_test, y_predict)))\n",
    "print(\"r2_score (dummy): {:.2f}\".format(r2_score(y_test, y_predict_dummy_mean)))\n",
    "print(\"r2_score (linear model): {:.2f}\".format(r2_score(y_test, y_predict)))\n",
    "plt.scatter(y_predict,y_predict-y_test,c='b')\n",
    "plt.scatter(lm.predict(X_train),lm.predict(X_train)-y_train,c='g')"
   ]
  },
  {
   "cell_type": "code",
   "execution_count": 487,
   "metadata": {
    "scrolled": true
   },
   "outputs": [
    {
     "name": "stdout",
     "output_type": "stream",
     "text": [
      "(2099, 14)\n",
      "(2099, 14)\n"
     ]
    },
    {
     "data": {
      "text/html": [
       "<div>\n",
       "<style scoped>\n",
       "    .dataframe tbody tr th:only-of-type {\n",
       "        vertical-align: middle;\n",
       "    }\n",
       "\n",
       "    .dataframe tbody tr th {\n",
       "        vertical-align: top;\n",
       "    }\n",
       "\n",
       "    .dataframe thead th {\n",
       "        text-align: right;\n",
       "    }\n",
       "</style>\n",
       "<table border=\"1\" class=\"dataframe\">\n",
       "  <thead>\n",
       "    <tr style=\"text-align: right;\">\n",
       "      <th></th>\n",
       "      <th>mobmake</th>\n",
       "      <th>hubid</th>\n",
       "      <th>hubpincode</th>\n",
       "      <th>pickuppartnerid</th>\n",
       "      <th>deliverypartnerid</th>\n",
       "      <th>insuranceCompanyId</th>\n",
       "      <th>custpincodecategory</th>\n",
       "      <th>claimtype</th>\n",
       "      <th>custpincode</th>\n",
       "      <th>memcreateddate</th>\n",
       "      <th>mobilepurchasedate</th>\n",
       "      <th>claimintdate</th>\n",
       "      <th>servicecntrid</th>\n",
       "      <th>pickupStartdate</th>\n",
       "    </tr>\n",
       "    <tr>\n",
       "      <th>srno</th>\n",
       "      <th></th>\n",
       "      <th></th>\n",
       "      <th></th>\n",
       "      <th></th>\n",
       "      <th></th>\n",
       "      <th></th>\n",
       "      <th></th>\n",
       "      <th></th>\n",
       "      <th></th>\n",
       "      <th></th>\n",
       "      <th></th>\n",
       "      <th></th>\n",
       "      <th></th>\n",
       "      <th></th>\n",
       "    </tr>\n",
       "  </thead>\n",
       "  <tbody>\n",
       "    <tr>\n",
       "      <th>2840600</th>\n",
       "      <td>C</td>\n",
       "      <td>6</td>\n",
       "      <td>160059</td>\n",
       "      <td>233</td>\n",
       "      <td>233</td>\n",
       "      <td>131</td>\n",
       "      <td>B</td>\n",
       "      <td>ADLD</td>\n",
       "      <td>134109</td>\n",
       "      <td>01/04/17</td>\n",
       "      <td>01/04/17</td>\n",
       "      <td>05/02/18</td>\n",
       "      <td>4549</td>\n",
       "      <td>12/02/18</td>\n",
       "    </tr>\n",
       "    <tr>\n",
       "      <th>2839018</th>\n",
       "      <td>AN</td>\n",
       "      <td>22</td>\n",
       "      <td>400104</td>\n",
       "      <td>233</td>\n",
       "      <td>233</td>\n",
       "      <td>131</td>\n",
       "      <td>B</td>\n",
       "      <td>ADLD</td>\n",
       "      <td>431001</td>\n",
       "      <td>17/01/18</td>\n",
       "      <td>23/11/17</td>\n",
       "      <td>04/02/18</td>\n",
       "      <td>4581</td>\n",
       "      <td>28/02/18</td>\n",
       "    </tr>\n",
       "    <tr>\n",
       "      <th>2957610</th>\n",
       "      <td>AN</td>\n",
       "      <td>21</td>\n",
       "      <td>110015</td>\n",
       "      <td>233</td>\n",
       "      <td>233</td>\n",
       "      <td>131</td>\n",
       "      <td>A</td>\n",
       "      <td>ADLD</td>\n",
       "      <td>122003</td>\n",
       "      <td>10/07/17</td>\n",
       "      <td>07/06/17</td>\n",
       "      <td>08/03/18</td>\n",
       "      <td>4580</td>\n",
       "      <td>12/03/18</td>\n",
       "    </tr>\n",
       "    <tr>\n",
       "      <th>2955362</th>\n",
       "      <td>AJ</td>\n",
       "      <td>6</td>\n",
       "      <td>160059</td>\n",
       "      <td>233</td>\n",
       "      <td>233</td>\n",
       "      <td>228</td>\n",
       "      <td>B</td>\n",
       "      <td>ADLD</td>\n",
       "      <td>140604</td>\n",
       "      <td>04/02/18</td>\n",
       "      <td>09/08/17</td>\n",
       "      <td>08/03/18</td>\n",
       "      <td>4437</td>\n",
       "      <td>11/03/18</td>\n",
       "    </tr>\n",
       "    <tr>\n",
       "      <th>2971077</th>\n",
       "      <td>AJ</td>\n",
       "      <td>2</td>\n",
       "      <td>110018</td>\n",
       "      <td>308</td>\n",
       "      <td>233</td>\n",
       "      <td>228</td>\n",
       "      <td>A</td>\n",
       "      <td>ADLD</td>\n",
       "      <td>122009</td>\n",
       "      <td>18/07/17</td>\n",
       "      <td>25/05/17</td>\n",
       "      <td>12/03/18</td>\n",
       "      <td>4388</td>\n",
       "      <td>15/03/18</td>\n",
       "    </tr>\n",
       "  </tbody>\n",
       "</table>\n",
       "</div>"
      ],
      "text/plain": [
       "        mobmake  hubid  hubpincode  pickuppartnerid  deliverypartnerid  \\\n",
       "srno                                                                     \n",
       "2840600       C      6      160059              233                233   \n",
       "2839018      AN     22      400104              233                233   \n",
       "2957610      AN     21      110015              233                233   \n",
       "2955362      AJ      6      160059              233                233   \n",
       "2971077      AJ      2      110018              308                233   \n",
       "\n",
       "         insuranceCompanyId custpincodecategory claimtype  custpincode  \\\n",
       "srno                                                                     \n",
       "2840600                 131                   B      ADLD       134109   \n",
       "2839018                 131                   B      ADLD       431001   \n",
       "2957610                 131                   A      ADLD       122003   \n",
       "2955362                 228                   B      ADLD       140604   \n",
       "2971077                 228                   A      ADLD       122009   \n",
       "\n",
       "        memcreateddate mobilepurchasedate claimintdate  servicecntrid  \\\n",
       "srno                                                                    \n",
       "2840600       01/04/17           01/04/17     05/02/18           4549   \n",
       "2839018       17/01/18           23/11/17     04/02/18           4581   \n",
       "2957610       10/07/17           07/06/17     08/03/18           4580   \n",
       "2955362       04/02/18           09/08/17     08/03/18           4437   \n",
       "2971077       18/07/17           25/05/17     12/03/18           4388   \n",
       "\n",
       "        pickupStartdate  \n",
       "srno                     \n",
       "2840600        12/02/18  \n",
       "2839018        28/02/18  \n",
       "2957610        12/03/18  \n",
       "2955362        11/03/18  \n",
       "2971077        15/03/18  "
      ]
     },
     "execution_count": 487,
     "metadata": {},
     "output_type": "execute_result"
    }
   ],
   "source": [
    "df2 = pd.read_csv('Test.csv',index_col = 'srno')\n",
    "print(df2.shape)\n",
    "df2.drop_duplicates(inplace = True)\n",
    "print(df2.shape)\n",
    "df2.head()"
   ]
  },
  {
   "cell_type": "code",
   "execution_count": 489,
   "metadata": {},
   "outputs": [],
   "source": [
    "#df2.drop('srno',axis=1,inplace=True)\n",
    "df2.drop('custpincode',axis=1,inplace=True)"
   ]
  },
  {
   "cell_type": "code",
   "execution_count": 490,
   "metadata": {},
   "outputs": [],
   "source": [
    "for col in ['mobmake','hubid','hubpincode','pickuppartnerid','deliverypartnerid','insuranceCompanyId','custpincodecategory','claimtype','servicecntrid']:\n",
    "    df2[col] = df2[col].astype('object')"
   ]
  },
  {
   "cell_type": "code",
   "execution_count": 491,
   "metadata": {},
   "outputs": [],
   "source": [
    "df2['memcreateddate'] = pd.to_datetime(df2['memcreateddate'],format='%d/%m/%y')\n",
    "df2['mobilepurchasedate'] = pd.to_datetime(df2['mobilepurchasedate'],format='%d/%m/%y')\n",
    "df2['claimintdate'] = pd.to_datetime(df2['claimintdate'],format='%d/%m/%y')\n",
    "df2['pickupStartdate'] = pd.to_datetime(df2['pickupStartdate'],format='%d/%m/%y')"
   ]
  },
  {
   "cell_type": "code",
   "execution_count": 492,
   "metadata": {},
   "outputs": [],
   "source": [
    "from sklearn import preprocessing\n",
    "for column in df2.columns:\n",
    "    if df2[column].dtype == type(object):\n",
    "        le = preprocessing.LabelEncoder()\n",
    "        df2[column] = le.fit_transform(df2[column])"
   ]
  },
  {
   "cell_type": "code",
   "execution_count": 493,
   "metadata": {},
   "outputs": [],
   "source": [
    "df2['servicecntrcount'] = df2.groupby('servicecntrid')['servicecntrid'].transform('count')\n",
    "df2['servicecntrGroup'] = np.where(df2['servicecntrcount']<=30, 0, df2.servicecntrid)\n",
    "df2.drop(['servicecntrcount','servicecntrid'],axis=1,inplace=True)"
   ]
  },
  {
   "cell_type": "code",
   "execution_count": 494,
   "metadata": {},
   "outputs": [
    {
     "data": {
      "text/plain": [
       "(2099, 13)"
      ]
     },
     "execution_count": 494,
     "metadata": {},
     "output_type": "execute_result"
    }
   ],
   "source": [
    "df2.shape"
   ]
  },
  {
   "cell_type": "code",
   "execution_count": 495,
   "metadata": {},
   "outputs": [],
   "source": [
    "df2['mem_claim_days'] = (df2['claimintdate'] - df2['memcreateddate']).dt.days\n",
    "df2['purchase_claim_days'] = (df2['claimintdate'] - df2['mobilepurchasedate']).dt.days\n",
    "df2['claim_pickup_days'] = (df2['pickupStartdate'] - df2['claimintdate']).dt.days"
   ]
  },
  {
   "cell_type": "code",
   "execution_count": 496,
   "metadata": {},
   "outputs": [],
   "source": [
    "df2.drop(['memcreateddate','mobilepurchasedate','claimintdate','pickupStartdate'],axis=1,inplace=True)"
   ]
  },
  {
   "cell_type": "code",
   "execution_count": 497,
   "metadata": {},
   "outputs": [
    {
     "data": {
      "text/plain": [
       "(2099, 12)"
      ]
     },
     "execution_count": 497,
     "metadata": {},
     "output_type": "execute_result"
    }
   ],
   "source": [
    "df2.shape"
   ]
  },
  {
   "cell_type": "code",
   "execution_count": 498,
   "metadata": {},
   "outputs": [],
   "source": [
    "for col in ['mobmake','hubid','hubpincode','pickuppartnerid','deliverypartnerid','insuranceCompanyId','custpincodecategory','claimtype','servicecntrGroup']:\n",
    "    df2[col] = df2[col].astype('category')\n",
    "df2 = pd.get_dummies(df2,drop_first=True)"
   ]
  },
  {
   "cell_type": "code",
   "execution_count": 499,
   "metadata": {
    "scrolled": true
   },
   "outputs": [
    {
     "data": {
      "text/plain": [
       "(2099, 106)"
      ]
     },
     "execution_count": 499,
     "metadata": {},
     "output_type": "execute_result"
    }
   ],
   "source": [
    "df2.head()\n",
    "df2.shape"
   ]
  },
  {
   "cell_type": "code",
   "execution_count": 500,
   "metadata": {},
   "outputs": [
    {
     "data": {
      "text/plain": [
       "mem_claim_days          485\n",
       "purchase_claim_days     634\n",
       "claim_pickup_days        39\n",
       "mobmake_1                 2\n",
       "mobmake_2                 2\n",
       "mobmake_3                 2\n",
       "mobmake_4                 2\n",
       "mobmake_5                 2\n",
       "mobmake_6                 2\n",
       "mobmake_7                 2\n",
       "mobmake_8                 2\n",
       "mobmake_9                 2\n",
       "mobmake_10                2\n",
       "mobmake_11                2\n",
       "mobmake_12                2\n",
       "mobmake_13                2\n",
       "mobmake_14                2\n",
       "mobmake_15                2\n",
       "mobmake_16                2\n",
       "mobmake_17                2\n",
       "mobmake_18                2\n",
       "mobmake_19                2\n",
       "mobmake_20                2\n",
       "mobmake_21                2\n",
       "mobmake_22                2\n",
       "mobmake_23                2\n",
       "mobmake_24                2\n",
       "mobmake_25                2\n",
       "mobmake_26                2\n",
       "mobmake_27                2\n",
       "                       ... \n",
       "servicecntrGroup_73       2\n",
       "servicecntrGroup_79       1\n",
       "servicecntrGroup_82       1\n",
       "servicecntrGroup_86       1\n",
       "servicecntrGroup_87       1\n",
       "servicecntrGroup_92       2\n",
       "servicecntrGroup_94       1\n",
       "servicecntrGroup_96       1\n",
       "servicecntrGroup_99       2\n",
       "servicecntrGroup_101      1\n",
       "servicecntrGroup_102      1\n",
       "servicecntrGroup_103      1\n",
       "servicecntrGroup_108      1\n",
       "servicecntrGroup_109      1\n",
       "servicecntrGroup_110      2\n",
       "servicecntrGroup_114      1\n",
       "servicecntrGroup_115      2\n",
       "servicecntrGroup_121      1\n",
       "servicecntrGroup_124      1\n",
       "servicecntrGroup_125      1\n",
       "servicecntrGroup_129      1\n",
       "servicecntrGroup_130      1\n",
       "servicecntrGroup_132      1\n",
       "servicecntrGroup_133      1\n",
       "servicecntrGroup_134      1\n",
       "servicecntrGroup_135      1\n",
       "servicecntrGroup_136      1\n",
       "servicecntrGroup_140      1\n",
       "servicecntrGroup_141      1\n",
       "servicecntrGroup_143      1\n",
       "Length: 143, dtype: int64"
      ]
     },
     "execution_count": 500,
     "metadata": {},
     "output_type": "execute_result"
    }
   ],
   "source": [
    "X.apply(lambda x: len(x.unique()))"
   ]
  },
  {
   "cell_type": "code",
   "execution_count": 501,
   "metadata": {
    "scrolled": true
   },
   "outputs": [
    {
     "data": {
      "text/plain": [
       "mem_claim_days           485\n",
       "purchase_claim_days      634\n",
       "claim_pickup_days         39\n",
       "mobmake_1                  2\n",
       "mobmake_2                  2\n",
       "mobmake_3                  2\n",
       "mobmake_4                  2\n",
       "mobmake_5                  2\n",
       "mobmake_6                  2\n",
       "mobmake_7                  2\n",
       "mobmake_8                  2\n",
       "mobmake_9                  2\n",
       "mobmake_10                 2\n",
       "mobmake_11                 2\n",
       "mobmake_12                 2\n",
       "mobmake_13                 2\n",
       "mobmake_14                 2\n",
       "mobmake_15                 2\n",
       "mobmake_16                 2\n",
       "mobmake_17                 2\n",
       "mobmake_18                 2\n",
       "mobmake_19                 2\n",
       "mobmake_20                 2\n",
       "mobmake_21                 2\n",
       "mobmake_22                 2\n",
       "mobmake_23                 2\n",
       "mobmake_24                 2\n",
       "mobmake_25                 2\n",
       "mobmake_26                 2\n",
       "mobmake_27                 2\n",
       "                        ... \n",
       "pickuppartnerid_1          2\n",
       "pickuppartnerid_2          2\n",
       "pickuppartnerid_3          2\n",
       "deliverypartnerid_1        2\n",
       "deliverypartnerid_2        2\n",
       "deliverypartnerid_3        2\n",
       "insuranceCompanyId_1       2\n",
       "custpincodecategory_1      2\n",
       "custpincodecategory_2      2\n",
       "custpincodecategory_3      2\n",
       "custpincodecategory_4      2\n",
       "claimtype_1                2\n",
       "servicecntrGroup_2         2\n",
       "servicecntrGroup_18        2\n",
       "servicecntrGroup_23        2\n",
       "servicecntrGroup_26        2\n",
       "servicecntrGroup_31        2\n",
       "servicecntrGroup_36        2\n",
       "servicecntrGroup_39        2\n",
       "servicecntrGroup_54        2\n",
       "servicecntrGroup_66        2\n",
       "servicecntrGroup_67        2\n",
       "servicecntrGroup_73        2\n",
       "servicecntrGroup_76        2\n",
       "servicecntrGroup_92        2\n",
       "servicecntrGroup_99        2\n",
       "servicecntrGroup_110       2\n",
       "servicecntrGroup_111       2\n",
       "servicecntrGroup_112       2\n",
       "servicecntrGroup_115       2\n",
       "Length: 106, dtype: int64"
      ]
     },
     "execution_count": 501,
     "metadata": {},
     "output_type": "execute_result"
    }
   ],
   "source": [
    "df2.apply(lambda x: len(x.unique()))"
   ]
  },
  {
   "cell_type": "code",
   "execution_count": 502,
   "metadata": {},
   "outputs": [],
   "source": [
    "missing_cols = set( X.columns ) - set( df2.columns )\n",
    "# Add a missing column in test set with default value equal to 0\n",
    "for c in missing_cols:\n",
    "    df2[c] = 0\n",
    "# Ensure the order of column in the test set is in the same order than in train set\n",
    "df2 = df2[X.columns]"
   ]
  },
  {
   "cell_type": "code",
   "execution_count": 503,
   "metadata": {},
   "outputs": [
    {
     "name": "stdout",
     "output_type": "stream",
     "text": [
      "(2099, 143)\n",
      "(2099, 143)\n"
     ]
    }
   ],
   "source": [
    "print(X.shape)\n",
    "print(df2.shape)"
   ]
  },
  {
   "cell_type": "code",
   "execution_count": 515,
   "metadata": {},
   "outputs": [],
   "source": [
    "X = df2\n",
    "y_predict = pd.DataFrame(regr.predict(df2),index=df2.index,columns=['Predicted_Values'])"
   ]
  },
  {
   "cell_type": "code",
   "execution_count": 516,
   "metadata": {},
   "outputs": [
    {
     "data": {
      "text/html": [
       "<div>\n",
       "<style scoped>\n",
       "    .dataframe tbody tr th:only-of-type {\n",
       "        vertical-align: middle;\n",
       "    }\n",
       "\n",
       "    .dataframe tbody tr th {\n",
       "        vertical-align: top;\n",
       "    }\n",
       "\n",
       "    .dataframe thead th {\n",
       "        text-align: right;\n",
       "    }\n",
       "</style>\n",
       "<table border=\"1\" class=\"dataframe\">\n",
       "  <thead>\n",
       "    <tr style=\"text-align: right;\">\n",
       "      <th></th>\n",
       "      <th>Predicted_Values</th>\n",
       "    </tr>\n",
       "    <tr>\n",
       "      <th>srno</th>\n",
       "      <th></th>\n",
       "    </tr>\n",
       "  </thead>\n",
       "  <tbody>\n",
       "    <tr>\n",
       "      <th>2840600</th>\n",
       "      <td>13.806042</td>\n",
       "    </tr>\n",
       "    <tr>\n",
       "      <th>2839018</th>\n",
       "      <td>16.884070</td>\n",
       "    </tr>\n",
       "    <tr>\n",
       "      <th>2957610</th>\n",
       "      <td>14.541372</td>\n",
       "    </tr>\n",
       "    <tr>\n",
       "      <th>2955362</th>\n",
       "      <td>13.653044</td>\n",
       "    </tr>\n",
       "    <tr>\n",
       "      <th>2971077</th>\n",
       "      <td>13.224646</td>\n",
       "    </tr>\n",
       "  </tbody>\n",
       "</table>\n",
       "</div>"
      ],
      "text/plain": [
       "         Predicted_Values\n",
       "srno                     \n",
       "2840600         13.806042\n",
       "2839018         16.884070\n",
       "2957610         14.541372\n",
       "2955362         13.653044\n",
       "2971077         13.224646"
      ]
     },
     "execution_count": 516,
     "metadata": {},
     "output_type": "execute_result"
    }
   ],
   "source": [
    "y_predict.head()"
   ]
  },
  {
   "cell_type": "code",
   "execution_count": 519,
   "metadata": {},
   "outputs": [],
   "source": [
    "y_predict.to_csv('Final_Predictions.csv')"
   ]
  }
 ],
 "metadata": {
  "kernelspec": {
   "display_name": "Python 3",
   "language": "python",
   "name": "python3"
  },
  "language_info": {
   "codemirror_mode": {
    "name": "ipython",
    "version": 3
   },
   "file_extension": ".py",
   "mimetype": "text/x-python",
   "name": "python",
   "nbconvert_exporter": "python",
   "pygments_lexer": "ipython3",
   "version": "3.6.4"
  }
 },
 "nbformat": 4,
 "nbformat_minor": 2
}
